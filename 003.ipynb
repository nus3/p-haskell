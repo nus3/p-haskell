{
 "cells": [
  {
   "cell_type": "markdown",
   "metadata": {},
   "source": [
    "# 3章 関数の構文"
   ]
  },
  {
   "cell_type": "markdown",
   "metadata": {},
   "source": [
    "## パターンマッチ"
   ]
  },
  {
   "cell_type": "markdown",
   "metadata": {},
   "source": [
    "関数の引数に具体的な値を入れることでif/else書かなくてよくなる  \n",
    "具体的な値ではなく小文字から始まる名前にすると任意の値に合致するようになる"
   ]
  },
  {
   "cell_type": "code",
   "execution_count": 2,
   "metadata": {},
   "outputs": [
    {
     "data": {
      "text/plain": [
       "\"two\""
      ]
     },
     "metadata": {},
     "output_type": "display_data"
    },
    {
     "data": {
      "text/plain": [
       "\"uncool\""
      ]
     },
     "metadata": {},
     "output_type": "display_data"
    }
   ],
   "source": [
    "sayMe :: Int -> String\n",
    "\n",
    "sayMe 1 = \"one\"\n",
    "sayMe 2 = \"two\"\n",
    "sayMe 3 = \"three\"\n",
    "sayMe x = \"uncool\"\n",
    "\n",
    "sayMe 2\n",
    "sayMe 18"
   ]
  },
  {
   "cell_type": "markdown",
   "metadata": {},
   "source": [
    "関数を再起的に定義することで階乗の計算もできる"
   ]
  },
  {
   "cell_type": "code",
   "execution_count": 4,
   "metadata": {},
   "outputs": [
    {
     "data": {
      "text/plain": [
       "6"
      ]
     },
     "metadata": {},
     "output_type": "display_data"
    }
   ],
   "source": [
    "factorial :: Int -> Int\n",
    "factorial 0 = 1\n",
    "factorial n = n * factorial (n-1)\n",
    "\n",
    "factorial 3"
   ]
  },
  {
   "cell_type": "markdown",
   "metadata": {},
   "source": [
    "### タプルのパターンマッチ"
   ]
  },
  {
   "cell_type": "markdown",
   "metadata": {},
   "source": [
    "パターンマッチを知らないハダ"
   ]
  },
  {
   "cell_type": "code",
   "execution_count": 5,
   "metadata": {},
   "outputs": [
    {
     "data": {
      "text/plain": [
       "(5.0,4.7)"
      ]
     },
     "metadata": {},
     "output_type": "display_data"
    }
   ],
   "source": [
    "addVectors :: (Double, Double) -> (Double, Double) -> (Double, Double)\n",
    "addVectors a b = (fst a + fst b, snd a + snd b)\n",
    "\n",
    "addVectors (3.8, 4.2) (1.2, 0.5)"
   ]
  },
  {
   "cell_type": "markdown",
   "metadata": {},
   "source": [
    "パターンマッチを知ったハダ  \n",
    "x1, x2 , y1, y2はそれぞれ任意の値"
   ]
  },
  {
   "cell_type": "code",
   "execution_count": 6,
   "metadata": {},
   "outputs": [
    {
     "data": {
      "text/plain": [
       "(5.0,4.7)"
      ]
     },
     "metadata": {},
     "output_type": "display_data"
    }
   ],
   "source": [
    "addVectors :: (Double, Double) -> (Double, Double) -> (Double, Double)\n",
    "addVectors (x1, y1) (x2, y2) = (x1 + x2, y1 + y2)\n",
    "\n",
    "addVectors (3.8, 4.2) (1.2, 0.5)"
   ]
  },
  {
   "cell_type": "markdown",
   "metadata": {},
   "source": [
    "トリプルのタプルに対して要素を取り出す"
   ]
  },
  {
   "cell_type": "code",
   "execution_count": 7,
   "metadata": {},
   "outputs": [
    {
     "data": {
      "text/plain": [
       "1"
      ]
     },
     "metadata": {},
     "output_type": "display_data"
    },
    {
     "data": {
      "text/plain": [
       "2"
      ]
     },
     "metadata": {},
     "output_type": "display_data"
    },
    {
     "data": {
      "text/plain": [
       "3"
      ]
     },
     "metadata": {},
     "output_type": "display_data"
    }
   ],
   "source": [
    "first :: (a, b, c) -> a\n",
    "first (x, _, _) = x\n",
    "\n",
    "second :: (a, b, c) -> b\n",
    "second (_, y, _) = y\n",
    "\n",
    "third :: (a, b, c) -> c\n",
    "third (_, _, z) = z\n",
    "\n",
    "first (1,2,3)\n",
    "second (1,2,3)\n",
    "third (1,2,3)"
   ]
  },
  {
   "cell_type": "markdown",
   "metadata": {},
   "source": [
    "### リストのパターンマッチ"
   ]
  },
  {
   "cell_type": "code",
   "execution_count": 10,
   "metadata": {},
   "outputs": [
    {
     "data": {
      "text/plain": [
       "[4,7,6,8,11,4]"
      ]
     },
     "metadata": {},
     "output_type": "display_data"
    }
   ],
   "source": [
    "let xs = [(1,3),(4,3),(2,4),(5,3),(5,6),(3,1)]\n",
    "[a+b | (a, b) <- xs]"
   ]
  },
  {
   "cell_type": "markdown",
   "metadata": {},
   "source": [
    "リスト内包表記のパターンマッチは失敗したら次の要素に進むだけ"
   ]
  },
  {
   "cell_type": "code",
   "execution_count": 9,
   "metadata": {},
   "outputs": [
    {
     "data": {
      "text/plain": [
       "[103,403,503]"
      ]
     },
     "metadata": {},
     "output_type": "display_data"
    }
   ],
   "source": [
    "let xs = [(1,3),(4,3),(2,4),(5,3),(5,6),(3,1)]\n",
    "[x*100+3 | (x, 3) <- xs]"
   ]
  },
  {
   "cell_type": "code",
   "execution_count": 11,
   "metadata": {},
   "outputs": [
    {
     "data": {
      "text/plain": [
       "4"
      ]
     },
     "metadata": {},
     "output_type": "display_data"
    },
    {
     "ename": "",
     "evalue": "",
     "output_type": "error",
     "traceback": [
      "not empty list\nCallStack (from HasCallStack):\n  error, called at <interactive>:2:12 in interactive:Ghci469"
     ]
    }
   ],
   "source": [
    "head' :: [a] -> a\n",
    "head' [] = error \"not empty list\"\n",
    "\n",
    "-- [1,2,3]は1:2:3:[]の構文糖衣\n",
    "head' (x:_) = x\n",
    "\n",
    "head' [4,5,6]\n",
    "head' []"
   ]
  },
  {
   "cell_type": "markdown",
   "metadata": {},
   "source": [
    "パターンマッチでは++演算子(二つのリストをつなげる)は使えない"
   ]
  },
  {
   "cell_type": "markdown",
   "metadata": {},
   "source": [
    "### asパターン"
   ]
  },
  {
   "cell_type": "markdown",
   "metadata": {},
   "source": [
    "パターンマッチの対象になった元の値を参照したい時に使う  \n",
    "`all@(x:_)`だとallが元の値  \n",
    "`\"Yota\"`は`['Y','o','t','a']`と一緒で`x:_`は`[x,..]`の糖衣構文"
   ]
  },
  {
   "cell_type": "code",
   "execution_count": 16,
   "metadata": {},
   "outputs": [
    {
     "data": {
      "text/plain": [
       "\"The first letter of Yota is Y\""
      ]
     },
     "metadata": {},
     "output_type": "display_data"
    }
   ],
   "source": [
    "firstLetter :: String -> String\n",
    "firstLetter \"\" = \"Empty String\"\n",
    "-- firstLetter all@(x:xs) = \"The first letter of \" ++ all ++ \" is \" ++ [x]\n",
    "-- xs使わないからこっちのが良さそう\n",
    "firstLetter all@(x:_) = \"The first letter of \" ++ all ++ \" is \" ++ [x]\n",
    "\n",
    "firstLetter \"Yota\""
   ]
  },
  {
   "cell_type": "markdown",
   "metadata": {},
   "source": [
    "### ガード"
   ]
  },
  {
   "cell_type": "markdown",
   "metadata": {},
   "source": [
    "ガード(`|`以下の条件式)は最低でも1つのスペースが必要"
   ]
  },
  {
   "cell_type": "code",
   "execution_count": 18,
   "metadata": {},
   "outputs": [
    {
     "data": {
      "text/plain": [
       "\"good\""
      ]
     },
     "metadata": {},
     "output_type": "display_data"
    },
    {
     "data": {
      "text/plain": [
       "\"fat\""
      ]
     },
     "metadata": {},
     "output_type": "display_data"
    },
    {
     "data": {
      "text/plain": [
       "\"whale\""
      ]
     },
     "metadata": {},
     "output_type": "display_data"
    }
   ],
   "source": [
    "checkBmi :: Double -> String\n",
    "checkBmi bmi\n",
    "    | bmi <= 18.5 = \"good\"\n",
    "    | bmi <= 25.0 = \"so so\"\n",
    "    | bmi <= 30.0 = \"fat\"\n",
    "    | otherwise = \"whale\"\n",
    "    \n",
    "checkBmi 17.5\n",
    "checkBmi 27\n",
    "checkBmi 34"
   ]
  },
  {
   "cell_type": "markdown",
   "metadata": {},
   "source": [
    "複数の引数にも対応"
   ]
  },
  {
   "cell_type": "code",
   "execution_count": 22,
   "metadata": {},
   "outputs": [
    {
     "data": {
      "text/plain": [
       "\"soso\""
      ]
     },
     "metadata": {},
     "output_type": "display_data"
    }
   ],
   "source": [
    "checkBmi :: Double -> Double -> String\n",
    "checkBmi weight height\n",
    "    | weight / height ^ 2 <= 18.5 = \"good\"\n",
    "    | weight / height ^ 2 <= 25.0 = \"soso\"\n",
    "    | weight / height ^ 2 <= 30 = \"fat\"\n",
    "    | otherwise = \"whale\"\n",
    "    \n",
    "\n",
    "checkBmi 66 1.72"
   ]
  },
  {
   "cell_type": "markdown",
   "metadata": {},
   "source": [
    "中置関数のパターン"
   ]
  },
  {
   "cell_type": "code",
   "execution_count": 21,
   "metadata": {},
   "outputs": [
    {
     "data": {
      "text/plain": [
       "EQ"
      ]
     },
     "metadata": {},
     "output_type": "display_data"
    },
    {
     "data": {
      "text/plain": [
       "LT"
      ]
     },
     "metadata": {},
     "output_type": "display_data"
    },
    {
     "data": {
      "text/plain": [
       "GT"
      ]
     },
     "metadata": {},
     "output_type": "display_data"
    }
   ],
   "source": [
    "myCompare :: (Ord a) => a -> a-> Ordering\n",
    "a `myCompare` b\n",
    "    | a == b = EQ\n",
    "    | a <= b = LT\n",
    "    | otherwise = GT\n",
    "    \n",
    "myCompare 3 3\n",
    "myCompare 3 6\n",
    "myCompare 3 2\n",
    "    "
   ]
  },
  {
   "cell_type": "markdown",
   "metadata": {},
   "source": [
    "### where"
   ]
  },
  {
   "cell_type": "markdown",
   "metadata": {},
   "source": [
    "whereキーワードを使って計算の中間結果に名前をつける"
   ]
  },
  {
   "cell_type": "code",
   "execution_count": 54,
   "metadata": {},
   "outputs": [
    {
     "data": {
      "text/plain": [
       "\"soso\""
      ]
     },
     "metadata": {},
     "output_type": "display_data"
    }
   ],
   "source": [
    "checkBmi :: Double -> Double -> String\n",
    "checkBmi weight height\n",
    "    | bmi <= 18.5 = \"good\"\n",
    "    | bmi <= 25.0 = \"soso\"\n",
    "    | bmi <= 30 = \"fat\"\n",
    "    | otherwise = \"whale\"\n",
    "    where bmi = weight / height ^ 2\n",
    "    \n",
    "checkBmi 66 1.72"
   ]
  },
  {
   "cell_type": "code",
   "execution_count": 57,
   "metadata": {},
   "outputs": [
    {
     "ename": "",
     "evalue": "",
     "output_type": "error",
     "traceback": [
      "Parse error (line 8, column 24): parse error on input ‘=’\nPerhaps you need a 'let' in a 'do' block?\ne.g. 'let x = 5' instead of 'x = 5'"
     ]
    }
   ],
   "source": [
    "checkBmi :: Double -> Double -> String\n",
    "checkBmi weight height\n",
    "    | bmi <= skinny = \"good\"\n",
    "    | bmi <= 25.0 = \"soso\"\n",
    "    | bmi <= 30 = \"fat\"\n",
    "    | otherwise = \"whale\"\n",
    "    where  bmi = weight / height ^ 2\n",
    "                skinny = 18.5\n",
    "    \n",
    "checkBmi 66 1.72"
   ]
  },
  {
   "cell_type": "code",
   "execution_count": null,
   "metadata": {},
   "outputs": [],
   "source": []
  }
 ],
 "metadata": {
  "kernelspec": {
   "display_name": "Haskell",
   "language": "haskell",
   "name": "haskell"
  },
  "language_info": {
   "codemirror_mode": "ihaskell",
   "file_extension": ".hs",
   "name": "haskell",
   "pygments_lexer": "Haskell",
   "version": "8.6.5"
  }
 },
 "nbformat": 4,
 "nbformat_minor": 4
}
