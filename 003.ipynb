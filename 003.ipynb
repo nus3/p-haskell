{
 "cells": [
  {
   "cell_type": "markdown",
   "metadata": {},
   "source": [
    "# 3章 関数の構文"
   ]
  },
  {
   "cell_type": "markdown",
   "metadata": {},
   "source": [
    "## パターンマッチ"
   ]
  },
  {
   "cell_type": "markdown",
   "metadata": {},
   "source": [
    "関数の引数に具体的な値を入れることでif/else書かなくてよくなる  \n",
    "具体的な値ではなく小文字から始まる名前にすると任意の値に合致するようになる"
   ]
  },
  {
   "cell_type": "code",
   "execution_count": 2,
   "metadata": {},
   "outputs": [
    {
     "data": {
      "text/plain": [
       "\"two\""
      ]
     },
     "metadata": {},
     "output_type": "display_data"
    },
    {
     "data": {
      "text/plain": [
       "\"uncool\""
      ]
     },
     "metadata": {},
     "output_type": "display_data"
    }
   ],
   "source": [
    "sayMe :: Int -> String\n",
    "\n",
    "sayMe 1 = \"one\"\n",
    "sayMe 2 = \"two\"\n",
    "sayMe 3 = \"three\"\n",
    "sayMe x = \"uncool\"\n",
    "\n",
    "sayMe 2\n",
    "sayMe 18"
   ]
  },
  {
   "cell_type": "markdown",
   "metadata": {},
   "source": [
    "関数を再起的に定義することで階乗の計算もできる"
   ]
  },
  {
   "cell_type": "code",
   "execution_count": 4,
   "metadata": {},
   "outputs": [
    {
     "data": {
      "text/plain": [
       "6"
      ]
     },
     "metadata": {},
     "output_type": "display_data"
    }
   ],
   "source": [
    "factorial :: Int -> Int\n",
    "factorial 0 = 1\n",
    "factorial n = n * factorial (n-1)\n",
    "\n",
    "factorial 3"
   ]
  },
  {
   "cell_type": "markdown",
   "metadata": {},
   "source": [
    "### タプルのパターンマッチ"
   ]
  },
  {
   "cell_type": "markdown",
   "metadata": {},
   "source": [
    "パターンマッチを知らないハダ"
   ]
  },
  {
   "cell_type": "code",
   "execution_count": 5,
   "metadata": {},
   "outputs": [
    {
     "data": {
      "text/plain": [
       "(5.0,4.7)"
      ]
     },
     "metadata": {},
     "output_type": "display_data"
    }
   ],
   "source": [
    "addVectors :: (Double, Double) -> (Double, Double) -> (Double, Double)\n",
    "addVectors a b = (fst a + fst b, snd a + snd b)\n",
    "\n",
    "addVectors (3.8, 4.2) (1.2, 0.5)"
   ]
  },
  {
   "cell_type": "markdown",
   "metadata": {},
   "source": [
    "パターンマッチを知ったハダ  \n",
    "x1, x2 , y1, y2はそれぞれ任意の値"
   ]
  },
  {
   "cell_type": "code",
   "execution_count": 6,
   "metadata": {},
   "outputs": [
    {
     "data": {
      "text/plain": [
       "(5.0,4.7)"
      ]
     },
     "metadata": {},
     "output_type": "display_data"
    }
   ],
   "source": [
    "addVectors :: (Double, Double) -> (Double, Double) -> (Double, Double)\n",
    "addVectors (x1, y1) (x2, y2) = (x1 + x2, y1 + y2)\n",
    "\n",
    "addVectors (3.8, 4.2) (1.2, 0.5)"
   ]
  },
  {
   "cell_type": "markdown",
   "metadata": {},
   "source": [
    "トリプルのタプルに対して要素を取り出す"
   ]
  },
  {
   "cell_type": "code",
   "execution_count": 7,
   "metadata": {},
   "outputs": [
    {
     "data": {
      "text/plain": [
       "1"
      ]
     },
     "metadata": {},
     "output_type": "display_data"
    },
    {
     "data": {
      "text/plain": [
       "2"
      ]
     },
     "metadata": {},
     "output_type": "display_data"
    },
    {
     "data": {
      "text/plain": [
       "3"
      ]
     },
     "metadata": {},
     "output_type": "display_data"
    }
   ],
   "source": [
    "first :: (a, b, c) -> a\n",
    "first (x, _, _) = x\n",
    "\n",
    "second :: (a, b, c) -> b\n",
    "second (_, y, _) = y\n",
    "\n",
    "third :: (a, b, c) -> c\n",
    "third (_, _, z) = z\n",
    "\n",
    "first (1,2,3)\n",
    "second (1,2,3)\n",
    "third (1,2,3)"
   ]
  },
  {
   "cell_type": "markdown",
   "metadata": {},
   "source": [
    "### リストのパターンマッチ"
   ]
  },
  {
   "cell_type": "code",
   "execution_count": 10,
   "metadata": {},
   "outputs": [
    {
     "data": {
      "text/plain": [
       "[4,7,6,8,11,4]"
      ]
     },
     "metadata": {},
     "output_type": "display_data"
    }
   ],
   "source": [
    "let xs = [(1,3),(4,3),(2,4),(5,3),(5,6),(3,1)]\n",
    "[a+b | (a, b) <- xs]"
   ]
  },
  {
   "cell_type": "markdown",
   "metadata": {},
   "source": [
    "リスト内包表記のパターンマッチは失敗したら次の要素に進むだけ"
   ]
  },
  {
   "cell_type": "code",
   "execution_count": 9,
   "metadata": {},
   "outputs": [
    {
     "data": {
      "text/plain": [
       "[103,403,503]"
      ]
     },
     "metadata": {},
     "output_type": "display_data"
    }
   ],
   "source": [
    "let xs = [(1,3),(4,3),(2,4),(5,3),(5,6),(3,1)]\n",
    "[x*100+3 | (x, 3) <- xs]"
   ]
  },
  {
   "cell_type": "code",
   "execution_count": 11,
   "metadata": {},
   "outputs": [
    {
     "data": {
      "text/plain": [
       "4"
      ]
     },
     "metadata": {},
     "output_type": "display_data"
    },
    {
     "ename": "",
     "evalue": "",
     "output_type": "error",
     "traceback": [
      "not empty list\nCallStack (from HasCallStack):\n  error, called at <interactive>:2:12 in interactive:Ghci469"
     ]
    }
   ],
   "source": [
    "head' :: [a] -> a\n",
    "head' [] = error \"not empty list\"\n",
    "\n",
    "-- [1,2,3]は1:2:3:[]の構文糖衣\n",
    "head' (x:_) = x\n",
    "\n",
    "head' [4,5,6]\n",
    "head' []"
   ]
  },
  {
   "cell_type": "markdown",
   "metadata": {},
   "source": [
    "パターンマッチでは++演算子(二つのリストをつなげる)は使えない"
   ]
  },
  {
   "cell_type": "markdown",
   "metadata": {},
   "source": [
    "### asパターン"
   ]
  },
  {
   "cell_type": "markdown",
   "metadata": {},
   "source": [
    "パターンマッチの対象になった元の値を参照したい時に使う  \n",
    "`all@(x:_)`だとallが元の値  \n",
    "`\"Yota\"`は`['Y','o','t','a']`と一緒で`x:_`は`[x,..]`の糖衣構文"
   ]
  },
  {
   "cell_type": "code",
   "execution_count": 16,
   "metadata": {},
   "outputs": [
    {
     "data": {
      "text/plain": [
       "\"The first letter of Yota is Y\""
      ]
     },
     "metadata": {},
     "output_type": "display_data"
    }
   ],
   "source": [
    "firstLetter :: String -> String\n",
    "firstLetter \"\" = \"Empty String\"\n",
    "-- firstLetter all@(x:xs) = \"The first letter of \" ++ all ++ \" is \" ++ [x]\n",
    "-- xs使わないからこっちのが良さそう\n",
    "firstLetter all@(x:_) = \"The first letter of \" ++ all ++ \" is \" ++ [x]\n",
    "\n",
    "firstLetter \"Yota\""
   ]
  },
  {
   "cell_type": "markdown",
   "metadata": {},
   "source": [
    "### ガード"
   ]
  },
  {
   "cell_type": "markdown",
   "metadata": {},
   "source": [
    "ガード(`|`以下の条件式)は最低でも1つのスペースが必要"
   ]
  },
  {
   "cell_type": "code",
   "execution_count": 18,
   "metadata": {},
   "outputs": [
    {
     "data": {
      "text/plain": [
       "\"good\""
      ]
     },
     "metadata": {},
     "output_type": "display_data"
    },
    {
     "data": {
      "text/plain": [
       "\"fat\""
      ]
     },
     "metadata": {},
     "output_type": "display_data"
    },
    {
     "data": {
      "text/plain": [
       "\"whale\""
      ]
     },
     "metadata": {},
     "output_type": "display_data"
    }
   ],
   "source": [
    "checkBmi :: Double -> String\n",
    "checkBmi bmi\n",
    "    | bmi <= 18.5 = \"good\"\n",
    "    | bmi <= 25.0 = \"so so\"\n",
    "    | bmi <= 30.0 = \"fat\"\n",
    "    | otherwise = \"whale\"\n",
    "    \n",
    "checkBmi 17.5\n",
    "checkBmi 27\n",
    "checkBmi 34"
   ]
  },
  {
   "cell_type": "markdown",
   "metadata": {},
   "source": [
    "複数の引数にも対応"
   ]
  },
  {
   "cell_type": "code",
   "execution_count": 22,
   "metadata": {},
   "outputs": [
    {
     "data": {
      "text/plain": [
       "\"soso\""
      ]
     },
     "metadata": {},
     "output_type": "display_data"
    }
   ],
   "source": [
    "checkBmi :: Double -> Double -> String\n",
    "checkBmi weight height\n",
    "    | weight / height ^ 2 <= 18.5 = \"good\"\n",
    "    | weight / height ^ 2 <= 25.0 = \"soso\"\n",
    "    | weight / height ^ 2 <= 30 = \"fat\"\n",
    "    | otherwise = \"whale\"\n",
    "    \n",
    "\n",
    "checkBmi 66 1.72"
   ]
  },
  {
   "cell_type": "markdown",
   "metadata": {},
   "source": [
    "中置関数のパターン"
   ]
  },
  {
   "cell_type": "code",
   "execution_count": 21,
   "metadata": {},
   "outputs": [
    {
     "data": {
      "text/plain": [
       "EQ"
      ]
     },
     "metadata": {},
     "output_type": "display_data"
    },
    {
     "data": {
      "text/plain": [
       "LT"
      ]
     },
     "metadata": {},
     "output_type": "display_data"
    },
    {
     "data": {
      "text/plain": [
       "GT"
      ]
     },
     "metadata": {},
     "output_type": "display_data"
    }
   ],
   "source": [
    "myCompare :: (Ord a) => a -> a-> Ordering\n",
    "a `myCompare` b\n",
    "    | a == b = EQ\n",
    "    | a <= b = LT\n",
    "    | otherwise = GT\n",
    "    \n",
    "myCompare 3 3\n",
    "myCompare 3 6\n",
    "myCompare 3 2\n",
    "    "
   ]
  },
  {
   "cell_type": "markdown",
   "metadata": {},
   "source": [
    "### where"
   ]
  },
  {
   "cell_type": "markdown",
   "metadata": {},
   "source": [
    "whereキーワードを使って計算の中間結果に名前をつける"
   ]
  },
  {
   "cell_type": "code",
   "execution_count": 54,
   "metadata": {},
   "outputs": [
    {
     "data": {
      "text/plain": [
       "\"soso\""
      ]
     },
     "metadata": {},
     "output_type": "display_data"
    }
   ],
   "source": [
    "checkBmi :: Double -> Double -> String\n",
    "checkBmi weight height\n",
    "    | bmi <= 18.5 = \"good\"\n",
    "    | bmi <= 25.0 = \"soso\"\n",
    "    | bmi <= 30 = \"fat\"\n",
    "    | otherwise = \"whale\"\n",
    "    where bmi = weight / height ^ 2\n",
    "    \n",
    "checkBmi 66 1.72"
   ]
  },
  {
   "cell_type": "markdown",
   "metadata": {},
   "source": [
    "なんかwhereのなかで複数の宣言するとエラーでる  \n",
    "→原因はインデントの位置を揃えないといけなかった"
   ]
  },
  {
   "cell_type": "code",
   "execution_count": 14,
   "metadata": {},
   "outputs": [
    {
     "data": {
      "text/plain": [
       "\"soso\""
      ]
     },
     "metadata": {},
     "output_type": "display_data"
    }
   ],
   "source": [
    "checkBmi :: Double -> Double -> String\n",
    "checkBmi weight height\n",
    "    | bmi <= skinny = \"good\"\n",
    "    | bmi <= 25.0 = \"soso\"\n",
    "    | bmi <= 30 = \"fat\"\n",
    "    | otherwise = \"whale\"\n",
    "    where\n",
    "        bmi = weight / height ^ 2\n",
    "        skinny = 18.5\n",
    "        normal = 25.0\n",
    "        fat = 30\n",
    "    \n",
    "checkBmi 66 1.72"
   ]
  },
  {
   "cell_type": "markdown",
   "metadata": {},
   "source": [
    "whereのスコープ  \n",
    "where節で定義した変数はその関数からしか見えない  \n",
    "  \n",
    "パターンマッチの関数でも同様で、下記だと違うパターンの関数ではniceは共有されないので使えない"
   ]
  },
  {
   "cell_type": "code",
   "execution_count": 1,
   "metadata": {},
   "outputs": [
    {
     "ename": "",
     "evalue": "",
     "output_type": "error",
     "traceback": [
      "Parse error (line 6, column 21): parse error on input ‘=’\nPerhaps you need a 'let' in a 'do' block?\ne.g. 'let x = 5' instead of 'x = 5'"
     ]
    }
   ],
   "source": [
    "greet :: String -> String\n",
    "greet \"Yota\" = nice ++ \" Yota\"\n",
    "greet \"Hada\" = nice ++ \" Hada\"\n",
    "greet name = bad ++ \" \" ++ name\n",
    "    where nice = \"Nice\"\n",
    "                bad = \"Bad\"\n",
    "                \n",
    "greet \"Yota\""
   ]
  },
  {
   "cell_type": "markdown",
   "metadata": {},
   "source": [
    "グローバルに持つ必要がある"
   ]
  },
  {
   "cell_type": "code",
   "execution_count": 2,
   "metadata": {},
   "outputs": [
    {
     "data": {
      "text/plain": [
       "\"Nice Y\""
      ]
     },
     "metadata": {},
     "output_type": "display_data"
    },
    {
     "data": {
      "text/plain": [
       "\"Bad other\""
      ]
     },
     "metadata": {},
     "output_type": "display_data"
    }
   ],
   "source": [
    "nice :: String\n",
    "nice = \"Nice\"\n",
    "bad :: String\n",
    "bad = \"Bad\"\n",
    "\n",
    "greet \"Y\" = nice ++ \" Y\"\n",
    "greet \"H\" = nice ++ \" H\"\n",
    "greet name = bad ++ \" \" ++ name\n",
    "\n",
    "greet \"Y\"\n",
    "greet \"other\""
   ]
  },
  {
   "cell_type": "markdown",
   "metadata": {},
   "source": [
    "パターンマッチとwhere  \n",
    "where節の中でパターンマッチの宣言が可能  \n",
    "イニシャルを返す関数"
   ]
  },
  {
   "cell_type": "code",
   "execution_count": 13,
   "metadata": {},
   "outputs": [
    {
     "data": {
      "text/plain": [
       "\"y. h.\""
      ]
     },
     "metadata": {},
     "output_type": "display_data"
    }
   ],
   "source": [
    "initials :: String -> String -> String\n",
    "initials fn ln = [f] ++ \". \" ++ [l] ++ \".\"\n",
    "    where\n",
    "        (f:_) = fn\n",
    "        (l:_) = ln\n",
    "\n",
    "initials \"yota\" \"hada\""
   ]
  },
  {
   "cell_type": "markdown",
   "metadata": {},
   "source": [
    "bmiのやつ"
   ]
  },
  {
   "cell_type": "code",
   "execution_count": 15,
   "metadata": {},
   "outputs": [
    {
     "data": {
      "text/plain": [
       "\"soso\""
      ]
     },
     "metadata": {},
     "output_type": "display_data"
    }
   ],
   "source": [
    "checkBmi :: Double -> Double -> String\n",
    "checkBmi weight height\n",
    "    | bmi <= s = \"good\"\n",
    "    | bmi <= n = \"soso\"\n",
    "    | bmi <= f = \"fat\"\n",
    "    | otherwise = \"whale\"\n",
    "    where\n",
    "        bmi = weight / height ^ 2\n",
    "        (s, n, f) = (18.5, 25.0, 30.0)\n",
    "    \n",
    "checkBmi 66 1.72"
   ]
  },
  {
   "cell_type": "markdown",
   "metadata": {},
   "source": [
    "whereブロックの中の関数  \n",
    "体重と身長のペアのリストを受け取ってbmiを返す"
   ]
  },
  {
   "cell_type": "code",
   "execution_count": 17,
   "metadata": {},
   "outputs": [
    {
     "data": {
      "text/plain": [
       "[22.30935640886966,26.25958474843318]"
      ]
     },
     "metadata": {},
     "output_type": "display_data"
    }
   ],
   "source": [
    "chBmis :: [(Double, Double)] -> [Double]\n",
    "chBmis xs = [bmi w h | (w, h) <- xs]\n",
    "    where bmi weight height = weight / height ^ 2\n",
    "\n",
    "chBmis [(66, 1.72), (75, 1.69)]"
   ]
  },
  {
   "cell_type": "markdown",
   "metadata": {},
   "source": [
    "#### where節メモ\n",
    "\n",
    "where節で定義した変数は関数内やガードでは使える  \n",
    "ただスコープとして、パターンマッチにて別パターンの中では使えない  \n",
    "where節で複数の変数がある場合はwhereだけ宣言して改行して変数のインデントを揃えた方がいいかも  "
   ]
  },
  {
   "cell_type": "markdown",
   "metadata": {},
   "source": [
    "### let\n",
    "\n",
    "where節は関数の終わりに定義  \n",
    "定義したヘ変数はガードを含む関数全体から見える  \n",
    "  \n",
    "letはどこでも変数を定義できる  \n",
    "ただガード間で共有はされない"
   ]
  },
  {
   "cell_type": "markdown",
   "metadata": {},
   "source": [
    "円柱の表面積を高さと半径から求める  \n",
    "`（円柱の表面積）= 2πrh(側面席) + 2πrの二乗`\n",
    "\n",
    "let内で変数を定義しinで実行する内容をかく"
   ]
  },
  {
   "cell_type": "code",
   "execution_count": 20,
   "metadata": {},
   "outputs": [
    {
     "data": {
      "text/plain": [
       "113.09733552923255"
      ]
     },
     "metadata": {},
     "output_type": "display_data"
    }
   ],
   "source": [
    "cylinder :: Double -> Double -> Double\n",
    "cylinder r h =\n",
    "    let\n",
    "        sideArea = 2 * pi * r * h\n",
    "        topArea = pi * r ^ 2\n",
    "    in sideArea + 2 * topArea\n",
    "\n",
    "cylinder 3 3"
   ]
  },
  {
   "cell_type": "markdown",
   "metadata": {},
   "source": [
    "letはwhereと違ってコード中のほとんどどんな場所でも使える"
   ]
  },
  {
   "cell_type": "code",
   "execution_count": 22,
   "metadata": {},
   "outputs": [
    {
     "data": {
      "text/plain": [
       "38"
      ]
     },
     "metadata": {},
     "output_type": "display_data"
    }
   ],
   "source": [
    "4 * (let a = 8 in a + 1) + 2"
   ]
  },
  {
   "cell_type": "markdown",
   "metadata": {},
   "source": [
    "letはローカルスコープの関数を作るのに使える"
   ]
  },
  {
   "cell_type": "code",
   "execution_count": 24,
   "metadata": {},
   "outputs": [
    {
     "data": {
      "text/plain": [
       "[(25,49,121)]"
      ]
     },
     "metadata": {},
     "output_type": "display_data"
    }
   ],
   "source": [
    "[let square x = x * x in (square 5, square 7, square 11)]"
   ]
  },
  {
   "cell_type": "markdown",
   "metadata": {},
   "source": [
    "セミコロンが使えるので複数の変数を一行で定義できる"
   ]
  },
  {
   "cell_type": "code",
   "execution_count": 25,
   "metadata": {},
   "outputs": [
    {
     "data": {
      "text/plain": [
       "6"
      ]
     },
     "metadata": {},
     "output_type": "display_data"
    }
   ],
   "source": [
    "let a = 1; b = 2; c =3 in a*b*c"
   ]
  },
  {
   "cell_type": "markdown",
   "metadata": {},
   "source": [
    "let式 + パターンマッチでタプルを要素に分解して変数に格納できる"
   ]
  },
  {
   "cell_type": "code",
   "execution_count": 26,
   "metadata": {},
   "outputs": [
    {
     "data": {
      "text/plain": [
       "16"
      ]
     },
     "metadata": {},
     "output_type": "display_data"
    }
   ],
   "source": [
    "(let (a, b, c) = (1, 2, 3) in a + b + c) + 10"
   ]
  },
  {
   "cell_type": "markdown",
   "metadata": {},
   "source": [
    "リスト内包表記  \n",
    "下記のlet式はフィルタではなく、単なる変数宣言のみ"
   ]
  },
  {
   "cell_type": "code",
   "execution_count": 28,
   "metadata": {},
   "outputs": [
    {
     "data": {
      "text/plain": [
       "[22.30935640886966,26.25958474843318]"
      ]
     },
     "metadata": {},
     "output_type": "display_data"
    }
   ],
   "source": [
    "calcBmis :: [(Double, Double)] -> [Double]\n",
    "calcBmis xs = [bmi | (w, h) <- xs, let bmi = w / h ^ 2]\n",
    "\n",
    "calcBmis [(66, 1.72), (75, 1.69)]"
   ]
  },
  {
   "cell_type": "markdown",
   "metadata": {},
   "source": [
    "フィルタもつかえる"
   ]
  },
  {
   "cell_type": "code",
   "execution_count": 29,
   "metadata": {},
   "outputs": [
    {
     "data": {
      "text/plain": [
       "[22.30935640886966]"
      ]
     },
     "metadata": {},
     "output_type": "display_data"
    }
   ],
   "source": [
    "calcBmis :: [(Double, Double)] -> [Double]\n",
    "calcBmis xs = [bmi | (w, h) <- xs, let bmi = w / h ^ 2, bmi <= 23]\n",
    "\n",
    "calcBmis [(66, 1.72), (75, 1.69)]"
   ]
  },
  {
   "cell_type": "markdown",
   "metadata": {},
   "source": [
    "### case式"
   ]
  },
  {
   "cell_type": "markdown",
   "metadata": {},
   "source": [
    "リストから先頭の要素を取り出すheadをcaseで書く\n",
    "\n",
    "```\n",
    "case expression of\n",
    "    pattern -> result\n",
    "    pattern -> result\n",
    "    ...\n",
    "```"
   ]
  },
  {
   "cell_type": "code",
   "execution_count": 31,
   "metadata": {},
   "outputs": [
    {
     "data": {
      "text/plain": [
       "1"
      ]
     },
     "metadata": {},
     "output_type": "display_data"
    }
   ],
   "source": [
    "head' :: [a] -> a\n",
    "head' xs = case xs of\n",
    "    [] -> error \"error\"\n",
    "    (x:_) -> x\n",
    "\n",
    "head' [1,2,3]"
   ]
  },
  {
   "cell_type": "markdown",
   "metadata": {},
   "source": [
    "case式はどこでも使える  \n",
    "デフォルトの指定の仕方"
   ]
  },
  {
   "cell_type": "code",
   "execution_count": 32,
   "metadata": {},
   "outputs": [
    {
     "data": {
      "text/plain": [
       "\"The list is empty.\""
      ]
     },
     "metadata": {},
     "output_type": "display_data"
    },
    {
     "data": {
      "text/plain": [
       "\"The list is a singleton list\""
      ]
     },
     "metadata": {},
     "output_type": "display_data"
    },
    {
     "data": {
      "text/plain": [
       "\"The list is a longer list\""
      ]
     },
     "metadata": {},
     "output_type": "display_data"
    }
   ],
   "source": [
    "chList :: [a] -> String\n",
    "chList ls = \"The list is \" ++ case ls of \n",
    "    [] -> \"empty.\"\n",
    "    [x] -> \"a singleton list\"\n",
    "    --  ここがdefaultにあたる\n",
    "    xs -> \"a longer list\"\n",
    "\n",
    "chList []\n",
    "chList [1]\n",
    "chList [1,2,3]"
   ]
  },
  {
   "cell_type": "markdown",
   "metadata": {},
   "source": [
    "関数定義のパターンマッチでも同じことできるよ"
   ]
  },
  {
   "cell_type": "code",
   "execution_count": 34,
   "metadata": {},
   "outputs": [
    {
     "data": {
      "text/plain": [
       "\"The list is empty.\""
      ]
     },
     "metadata": {},
     "output_type": "display_data"
    },
    {
     "data": {
      "text/plain": [
       "\"The list is a singleton list\""
      ]
     },
     "metadata": {},
     "output_type": "display_data"
    },
    {
     "data": {
      "text/plain": [
       "\"The list is a longer list\""
      ]
     },
     "metadata": {},
     "output_type": "display_data"
    }
   ],
   "source": [
    "chList :: [a] -> String\n",
    "chList ls = \"The list is \" ++ what ls\n",
    "    where\n",
    "        what [] = \"empty.\"\n",
    "        what [x] = \"a singleton list\"\n",
    "        what xs = \"a longer list\"\n",
    "        \n",
    "chList []\n",
    "chList [1]\n",
    "chList [1,2,3]"
   ]
  }
 ],
 "metadata": {
  "kernelspec": {
   "display_name": "Haskell",
   "language": "haskell",
   "name": "haskell"
  },
  "language_info": {
   "codemirror_mode": "ihaskell",
   "file_extension": ".hs",
   "name": "haskell",
   "pygments_lexer": "Haskell",
   "version": "8.6.5"
  }
 },
 "nbformat": 4,
 "nbformat_minor": 4
}
