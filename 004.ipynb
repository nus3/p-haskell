{
 "cells": [
  {
   "cell_type": "markdown",
   "metadata": {},
   "source": [
    "# 第4章 再帰"
   ]
  },
  {
   "cell_type": "markdown",
   "metadata": {},
   "source": [
    "再帰とは関数定義の中で自分自身を呼び出すこと  \n",
    "無限に処理するものでなければ基底部(これ以上分解できない値)を定義し、そこで再帰するのを終了させる"
   ]
  },
  {
   "cell_type": "markdown",
   "metadata": {},
   "source": [
    "再帰的に定義したmaximum関数\n",
    "\n",
    "復習  \n",
    "`=>`は型クラス(インターフェースとして使える)  \n",
    "Ord型クラスはなんらかの順序付けするための型クラス"
   ]
  },
  {
   "cell_type": "code",
   "execution_count": 5,
   "metadata": {},
   "outputs": [
    {
     "data": {
      "text/plain": [
       "5"
      ]
     },
     "metadata": {},
     "output_type": "display_data"
    }
   ],
   "source": [
    "maximum' :: (Ord a) => [a] -> a\n",
    "-- パターンマッチ 空リストか要素が一つの場合の条件分岐\n",
    "maximum' [] = error \"empty list\"\n",
    "maximum' [x] = x\n",
    "-- リストの先頭を取得して、残りのリストを再帰的にmaximum'に渡す\n",
    "maximum' (x:xs) = max x (maximum' xs)\n",
    "\n",
    "maximum' [2,5,1]"
   ]
  },
  {
   "cell_type": "markdown",
   "metadata": {},
   "source": [
    "上記再帰の流れの詳細  \n",
    "maximum'に`[2,5,1]`を渡す  \n",
    "`2`と`[5,1]`に分けて`max 2 (maximum' [5,1])`になる  \n",
    "`maximum' [5,1]`は`max 5 (maximum' [1])`で`maximum' [1]`は`1`を返すので`max 5 1`で出力は5になる  \n",
    "`max 2 (maximum' [5,1])`は`max 2 5`になって結果として5を出力する\n"
   ]
  },
  {
   "cell_type": "markdown",
   "metadata": {},
   "source": [
    "### replicate"
   ]
  },
  {
   "cell_type": "markdown",
   "metadata": {},
   "source": [
    "intと値をとり、int分、値を繰り返したリストを作る `replicate 3 5`は`[5,5,5]`を返す  \n",
    "\n",
    "メモ\n",
    "初回 `5 : replicate' 2 5`  \n",
    "`replicate' 2 5`は`5: replicate' 1 5`  \n",
    "`replicate' 1 5`は`5: replicate' 0 5`  \n",
    "`replicate' 0 5`は`[]`  \n",
    "\n",
    "逆順でみてくと  \n",
    "`5: []`  \n",
    "`5 : 5: []`  \n",
    "`5 : 5 : 5: []`  \n",
    "で出力が`[5,5,5]`になる\n"
   ]
  },
  {
   "cell_type": "code",
   "execution_count": 7,
   "metadata": {},
   "outputs": [
    {
     "data": {
      "text/plain": [
       "[5,5,5]"
      ]
     },
     "metadata": {},
     "output_type": "display_data"
    }
   ],
   "source": [
    "replicate' :: Int -> a -> [a]\n",
    "replicate' n x\n",
    "    | n <= 0 =[]\n",
    "    | otherwise = x : replicate' (n-1) x\n",
    "\n",
    "replicate' 3 5"
   ]
  },
  {
   "cell_type": "markdown",
   "metadata": {},
   "source": [
    "復習  \n",
    "リストの表現方法\n",
    "`[1,2,3]` = `1 : 2 : 3 : []`"
   ]
  },
  {
   "cell_type": "code",
   "execution_count": 14,
   "metadata": {},
   "outputs": [
    {
     "data": {
      "text/html": [
       "<style>/* Styles used for the Hoogle display in the pager */\n",
       ".hoogle-doc {\n",
       "display: block;\n",
       "padding-bottom: 1.3em;\n",
       "padding-left: 0.4em;\n",
       "}\n",
       ".hoogle-code {\n",
       "display: block;\n",
       "font-family: monospace;\n",
       "white-space: pre;\n",
       "}\n",
       ".hoogle-text {\n",
       "display: block;\n",
       "}\n",
       ".hoogle-name {\n",
       "color: green;\n",
       "font-weight: bold;\n",
       "}\n",
       ".hoogle-head {\n",
       "font-weight: bold;\n",
       "}\n",
       ".hoogle-sub {\n",
       "display: block;\n",
       "margin-left: 0.4em;\n",
       "}\n",
       ".hoogle-package {\n",
       "font-weight: bold;\n",
       "font-style: italic;\n",
       "}\n",
       ".hoogle-module {\n",
       "font-weight: bold;\n",
       "}\n",
       ".hoogle-class {\n",
       "font-weight: bold;\n",
       "}\n",
       ".get-type {\n",
       "color: green;\n",
       "font-weight: bold;\n",
       "font-family: monospace;\n",
       "display: block;\n",
       "white-space: pre-wrap;\n",
       "}\n",
       ".show-type {\n",
       "color: green;\n",
       "font-weight: bold;\n",
       "font-family: monospace;\n",
       "margin-left: 1em;\n",
       "}\n",
       ".mono {\n",
       "font-family: monospace;\n",
       "display: block;\n",
       "}\n",
       ".err-msg {\n",
       "color: red;\n",
       "font-style: italic;\n",
       "font-family: monospace;\n",
       "white-space: pre;\n",
       "display: block;\n",
       "}\n",
       "#unshowable {\n",
       "color: red;\n",
       "font-weight: bold;\n",
       "}\n",
       ".err-msg.in.collapse {\n",
       "padding-top: 0.7em;\n",
       "}\n",
       ".highlight-code {\n",
       "white-space: pre;\n",
       "font-family: monospace;\n",
       "}\n",
       ".suggestion-warning { \n",
       "font-weight: bold;\n",
       "color: rgb(200, 130, 0);\n",
       "}\n",
       ".suggestion-error { \n",
       "font-weight: bold;\n",
       "color: red;\n",
       "}\n",
       ".suggestion-name {\n",
       "font-weight: bold;\n",
       "}\n",
       "</style><div class=\"suggestion-name\" style=\"clear:both;\">Use list literal</div><div class=\"suggestion-row\" style=\"float: left;\"><div class=\"suggestion-warning\">Found:</div><div class=\"highlight-code\" id=\"haskell\">1 : 2 : 3 : []</div></div><div class=\"suggestion-row\" style=\"float: left;\"><div class=\"suggestion-warning\">Why Not:</div><div class=\"highlight-code\" id=\"haskell\">[1, 2, 3]</div></div>"
      ],
      "text/plain": [
       "Line 1: Use list literal\n",
       "Found:\n",
       "1 : 2 : 3 : []\n",
       "Why not:\n",
       "[1, 2, 3]"
      ]
     },
     "metadata": {},
     "output_type": "display_data"
    },
    {
     "data": {
      "text/plain": [
       "[1,2,3]"
      ]
     },
     "metadata": {},
     "output_type": "display_data"
    }
   ],
   "source": [
    "1 : 2 : 3 : []"
   ]
  },
  {
   "cell_type": "markdown",
   "metadata": {},
   "source": [
    "### take"
   ]
  },
  {
   "cell_type": "markdown",
   "metadata": {},
   "source": [
    "指定されたリストから指定された数分の先頭からの要素のリストを返す  \n",
    "`take 2 [1,2,3]`は`[1,2]`を返す"
   ]
  },
  {
   "cell_type": "code",
   "execution_count": 15,
   "metadata": {},
   "outputs": [
    {
     "data": {
      "text/plain": [
       "[1,2]"
      ]
     },
     "metadata": {},
     "output_type": "display_data"
    }
   ],
   "source": [
    "take' :: Int -> [a] -> [a]\n",
    "\n",
    "-- 第一引数が0以下の場合 第二引数の値がいずれかであろうと同じ値を返すので_を使用\n",
    "take' n _\n",
    "    | n <= 0 = []\n",
    "    \n",
    "-- 第二引数が空リストの場合　第一引数の値がいずれかであろうと同じ値を返すので_を使用\n",
    "take' _ [] = []\n",
    "\n",
    "-- 第二引数のリストをheadとtaileに分けてhead : (n-1した値とtaileのリストをtake'に渡す)\n",
    "take' n (x:xs) = x : take' (n-1) xs\n",
    "\n",
    "take' 2 [1,2,3]\n"
   ]
  },
  {
   "cell_type": "markdown",
   "metadata": {},
   "source": [
    "### reverse"
   ]
  },
  {
   "cell_type": "markdown",
   "metadata": {},
   "source": [
    "リストを逆順にする  \n",
    "リストの先頭の要素を取り出して `xs ++ [x]`を再帰関数の引数に渡す  \n",
    "\n",
    "`reverse' [1,2,3]`の場合は  \n",
    "`reverse' [2,3] ++ [1]`  \n",
    "`reverse' [3] ++ [2] ++ [1]`  \n",
    "`[] ++ [3] ++ [2] ++ [1]`  \n",
    "\n",
    "注意するのは`reverse' [2,3] ++ [1]`は`reverse'`の引数は`[2,3]`であり`++ [1]`は別物であること"
   ]
  },
  {
   "cell_type": "code",
   "execution_count": 16,
   "metadata": {},
   "outputs": [
    {
     "data": {
      "text/plain": [
       "[3,2,1]"
      ]
     },
     "metadata": {},
     "output_type": "display_data"
    }
   ],
   "source": [
    "reverse' :: [a] -> [a]\n",
    "reverse' [] = []\n",
    "reverse' (x:xs) = reverse' xs ++ [x]\n",
    "\n",
    "reverse' [1,2,3]"
   ]
  },
  {
   "cell_type": "markdown",
   "metadata": {},
   "source": [
    "要素数が一つのリストを`x:xs`で分けるとどうなるのか"
   ]
  },
  {
   "cell_type": "code",
   "execution_count": 4,
   "metadata": {},
   "outputs": [
    {
     "data": {
      "text/plain": [
       "1"
      ]
     },
     "metadata": {},
     "output_type": "display_data"
    },
    {
     "data": {
      "text/plain": [
       "[]"
      ]
     },
     "metadata": {},
     "output_type": "display_data"
    }
   ],
   "source": [
    "(x:xs) = [1]\n",
    "x\n",
    "xs"
   ]
  },
  {
   "cell_type": "code",
   "execution_count": 5,
   "metadata": {},
   "outputs": [
    {
     "data": {
      "text/plain": [
       "[3,2,1]"
      ]
     },
     "metadata": {},
     "output_type": "display_data"
    }
   ],
   "source": [
    "[] ++ [3] ++ [2] ++ [1]"
   ]
  },
  {
   "cell_type": "markdown",
   "metadata": {},
   "source": [
    "### repeat  \n",
    "要素を受け取り、その要素の無限リストを作る  \n",
    "基底部がないので無限リストになる"
   ]
  },
  {
   "cell_type": "code",
   "execution_count": 7,
   "metadata": {},
   "outputs": [],
   "source": [
    "repeat' :: a-> [a]\n",
    "repeat' x = x : repeat' x"
   ]
  },
  {
   "cell_type": "markdown",
   "metadata": {},
   "source": [
    "### zip  \n",
    "二つのリストを引数に、これらを合わせる  \n",
    "`zip [1,2,3] [7,8]`は`[(1,7), (2,8)]`になる\n",
    "\n",
    "基底部に第一位引数が空リストになった場合、第二引数が空リストになった場合を定義する\n",
    "各引数のheadを組み合わせてタプルを作り、残りのtaileは再帰関数の引数として渡す"
   ]
  },
  {
   "cell_type": "code",
   "execution_count": 9,
   "metadata": {},
   "outputs": [
    {
     "data": {
      "text/plain": [
       "[(1,7),(2,8)]"
      ]
     },
     "metadata": {},
     "output_type": "display_data"
    }
   ],
   "source": [
    "zip' :: [a] -> [b] -> [(a,b)]\n",
    "zip' _ []  = []\n",
    "zip' [] _ = []\n",
    "zip' (x:xs) (y:ys) = (x,y): zip' xs ys\n",
    "\n",
    "zip' [1,2,3] [7,8]"
   ]
  },
  {
   "cell_type": "markdown",
   "metadata": {},
   "source": [
    "### elem  \n",
    "値とリスト受け取り、その値がリストに含まれているかを調べる  \n",
    "基底部に第二引数が空リストになったらFalseになるように設定  \n",
    "ガードを使い第一引数とheadが同一であればTrue\n",
    "それ以外は再帰関数に第一引数の値とtaileを渡す"
   ]
  },
  {
   "cell_type": "code",
   "execution_count": 12,
   "metadata": {},
   "outputs": [
    {
     "data": {
      "text/plain": [
       "True"
      ]
     },
     "metadata": {},
     "output_type": "display_data"
    },
    {
     "data": {
      "text/plain": [
       "False"
      ]
     },
     "metadata": {},
     "output_type": "display_data"
    }
   ],
   "source": [
    "elem' :: (Eq a) => a -> [a] -> Bool\n",
    "elem' _ [] = False\n",
    "elem' a (x:xs)\n",
    "    | a == x = True\n",
    "    | otherwise = a `elem'` xs\n",
    "\n",
    "elem' 1 [1,2,3]\n",
    "elem' 'b' \"saterait\""
   ]
  },
  {
   "cell_type": "markdown",
   "metadata": {},
   "source": [
    "## クイックソート"
   ]
  },
  {
   "cell_type": "markdown",
   "metadata": {},
   "source": [
    "数などのソート処理  \n",
    "最初の要素を選択し、その要素以下の物を左に、その要素より大きい物を右に移動させる  \n",
    "最終的に空リストになるように何回も行う  \n",
    "\n",
    "`[5,1,9,4,6]`  \n",
    "`[1,4] ++ [5] ++ [9,6]`\n",
    "\n",
    "`[1,4]`は先頭の1より小さい値がないので左には空リストを  \n",
    "`[] ++ [1] ++ [4]`  \n",
    "`[4]`は4より小さい値、大きい値がないので下記のようになる  \n",
    "`[] ++ [4] ++ []`  "
   ]
  },
  {
   "cell_type": "code",
   "execution_count": 14,
   "metadata": {},
   "outputs": [
    {
     "data": {
      "text/plain": [
       "[1,4,5,6,9]"
      ]
     },
     "metadata": {},
     "output_type": "display_data"
    }
   ],
   "source": [
    "quicksort :: (Ord a) => [a] -> [a]\n",
    "quicksort [] = []\n",
    "quicksort (x:xs) = \n",
    "    let\n",
    "        -- リスト内包表記 先頭の要素の値未満のリスト\n",
    "        smallerOrEqual = [a | a <- xs, a <= x]\n",
    "        -- 先頭の要素より大きい値のリスト\n",
    "        larger = [a | a <- xs, a > x]\n",
    "    in quicksort smallerOrEqual ++ [x] ++ quicksort larger\n",
    "\n",
    "quicksort [5,1,9,4,6]"
   ]
  },
  {
   "cell_type": "markdown",
   "metadata": {},
   "source": [
    "処理内容を追ってみる\n",
    "\n",
    "`quicksort [5,1,9,4,6]`  \n",
    "`quicksort [1,4] ++ [5] ++ quicksort [9,6]`  \n",
    "\n",
    "`quicksort [1,4]`  \n",
    "`quicksort [] ++ [1] ++ quicksort [4]`    \n",
    "` [] ++ [1] ++ quicksort [4]`  \n",
    "`[] ++ [1] ++ [] ++ [4] ++ []`  \n",
    "`[1,4]`  \n",
    "\n",
    "`quicksort [9,6]`    \n",
    "`quicksort [6] ++ [9] ++ []`  \n",
    "`[] ++ [6] ++ [] ++ [9] ++ []`  \n",
    "`[6,9]`  \n",
    "\n",
    "最初に戻って\n",
    "`[1,4] ++ [5] ++ [6,9]`\n",
    "\n",
    "\n",
    "\n",
    "\n"
   ]
  },
  {
   "cell_type": "markdown",
   "metadata": {},
   "source": [
    "再帰処理を考える時はまず基底部を定義するべし  \n",
    "さらにとくべき問題を小さく分割するべし"
   ]
  }
 ],
 "metadata": {
  "kernelspec": {
   "display_name": "Haskell",
   "language": "haskell",
   "name": "haskell"
  },
  "language_info": {
   "codemirror_mode": "ihaskell",
   "file_extension": ".hs",
   "name": "haskell",
   "pygments_lexer": "Haskell",
   "version": "8.6.5"
  }
 },
 "nbformat": 4,
 "nbformat_minor": 4
}
